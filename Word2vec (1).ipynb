{
  "nbformat": 4,
  "nbformat_minor": 0,
  "metadata": {
    "colab": {
      "name": "Word2vec.ipynb",
      "provenance": [],
      "collapsed_sections": []
    },
    "kernelspec": {
      "display_name": "Python 3",
      "language": "python",
      "name": "python3"
    },
    "language_info": {
      "codemirror_mode": {
        "name": "ipython",
        "version": 3
      },
      "file_extension": ".py",
      "mimetype": "text/x-python",
      "name": "python",
      "nbconvert_exporter": "python",
      "pygments_lexer": "ipython3",
      "version": "3.7.6"
    }
  },
  "cells": [
    {
      "cell_type": "code",
      "metadata": {
        "id": "WXc__mkeq0eY"
      },
      "source": [
        "from gensim.models import Word2Vec\n",
        "sentences = [['this', 'is', 'the', 'good', 'machine', 'learning', 'book'],\n",
        "            ['this', 'is',  'another', 'machine', 'learning', 'book'],\n",
        "            ['one', 'more', 'new', 'book'],\n",
        "         \n",
        "          ['this', 'is', 'about', 'machine', 'learning', 'post'],\n",
        "          ['orange', 'juice', 'is', 'the', 'liquid', 'extract', 'of', 'fruit'],\n",
        "          ['orange', 'juice', 'comes', 'in', 'several', 'different', 'varieties'],\n",
        "          ['this', 'is', 'the', 'last', 'machine', 'learning', 'book'],\n",
        "          ['orange', 'juice', 'comes', 'in', 'several', 'different', 'packages'],\n",
        "          ['orange', 'juice', 'is', 'liquid', 'extract', 'from', 'fruit', 'on', 'orange', 'tree']]\n"
      ],
      "execution_count": 1,
      "outputs": []
    },
    {
      "cell_type": "code",
      "metadata": {
        "id": "9_Y4Ubrf6wWu"
      },
      "source": [
        ""
      ],
      "execution_count": null,
      "outputs": []
    },
    {
      "cell_type": "code",
      "metadata": {
        "id": "hrlKC_AUrXvM"
      },
      "source": [
        "from gensim.models import FastText\n",
        "model = Word2Vec(sentences, size=20, min_count=1, window=2,sg=0)\n",
        "#model = FastText(sentences, size=20, min_count=1, window=2,sg=0)"
      ],
      "execution_count": 2,
      "outputs": []
    },
    {
      "cell_type": "code",
      "metadata": {
        "id": "XcDZ3Oyzx2AJ",
        "outputId": "ef96859c-4a34-446c-b94a-3601e895222d",
        "colab": {
          "base_uri": "https://localhost:8080/",
          "height": 156
        }
      },
      "source": [
        "model['is']"
      ],
      "execution_count": 3,
      "outputs": [
        {
          "output_type": "stream",
          "text": [
            "/usr/local/lib/python3.6/dist-packages/ipykernel_launcher.py:1: DeprecationWarning: Call to deprecated `__getitem__` (Method will be removed in 4.0.0, use self.wv.__getitem__() instead).\n",
            "  \"\"\"Entry point for launching an IPython kernel.\n"
          ],
          "name": "stderr"
        },
        {
          "output_type": "execute_result",
          "data": {
            "text/plain": [
              "array([ 0.02383346,  0.02474875, -0.01300415, -0.0089966 ,  0.02219755,\n",
              "       -0.02417354,  0.00850279, -0.00671743,  0.0246528 ,  0.01460634,\n",
              "        0.01089522,  0.00218082,  0.00833178,  0.02347117,  0.00914105,\n",
              "       -0.01513829,  0.00820174, -0.02172375,  0.0171936 , -0.00381313],\n",
              "      dtype=float32)"
            ]
          },
          "metadata": {
            "tags": []
          },
          "execution_count": 3
        }
      ]
    },
    {
      "cell_type": "code",
      "metadata": {
        "id": "HcvuoRUjyWuH",
        "outputId": "a842f569-7fcb-4821-8950-ad64c2ab99ce",
        "colab": {
          "base_uri": "https://localhost:8080/",
          "height": 122
        }
      },
      "source": [
        "model.similarity('orange','juice')"
      ],
      "execution_count": 4,
      "outputs": [
        {
          "output_type": "stream",
          "text": [
            "/usr/local/lib/python3.6/dist-packages/ipykernel_launcher.py:1: DeprecationWarning: Call to deprecated `similarity` (Method will be removed in 4.0.0, use self.wv.similarity() instead).\n",
            "  \"\"\"Entry point for launching an IPython kernel.\n",
            "/usr/local/lib/python3.6/dist-packages/gensim/matutils.py:737: FutureWarning: Conversion of the second argument of issubdtype from `int` to `np.signedinteger` is deprecated. In future, it will be treated as `np.int64 == np.dtype(int).type`.\n",
            "  if np.issubdtype(vec.dtype, np.int):\n"
          ],
          "name": "stderr"
        },
        {
          "output_type": "execute_result",
          "data": {
            "text/plain": [
              "-0.18763143"
            ]
          },
          "metadata": {
            "tags": []
          },
          "execution_count": 4
        }
      ]
    },
    {
      "cell_type": "code",
      "metadata": {
        "id": "QCQE4-ed1BU3",
        "outputId": "12fcbd15-8e99-4281-c7c0-c52e9cc4202e",
        "colab": {
          "base_uri": "https://localhost:8080/",
          "height": 122
        }
      },
      "source": [
        "model.similarity('this','orange')\n",
        "#model.similarity('machine','orange')\n"
      ],
      "execution_count": 5,
      "outputs": [
        {
          "output_type": "stream",
          "text": [
            "/usr/local/lib/python3.6/dist-packages/ipykernel_launcher.py:1: DeprecationWarning: Call to deprecated `similarity` (Method will be removed in 4.0.0, use self.wv.similarity() instead).\n",
            "  \"\"\"Entry point for launching an IPython kernel.\n",
            "/usr/local/lib/python3.6/dist-packages/gensim/matutils.py:737: FutureWarning: Conversion of the second argument of issubdtype from `int` to `np.signedinteger` is deprecated. In future, it will be treated as `np.int64 == np.dtype(int).type`.\n",
            "  if np.issubdtype(vec.dtype, np.int):\n"
          ],
          "name": "stderr"
        },
        {
          "output_type": "execute_result",
          "data": {
            "text/plain": [
              "-0.1397483"
            ]
          },
          "metadata": {
            "tags": []
          },
          "execution_count": 5
        }
      ]
    },
    {
      "cell_type": "code",
      "metadata": {
        "id": "xR_1LesR1hP9",
        "outputId": "70908e2d-0f32-4e20-9e44-5a35ce5f967e",
        "colab": {
          "base_uri": "https://localhost:8080/",
          "height": 190
        }
      },
      "source": [
        "model.most_similar('orange')[:5]\n",
        "#model.most_similar('machine')[:5]"
      ],
      "execution_count": 6,
      "outputs": [
        {
          "output_type": "stream",
          "text": [
            "/usr/local/lib/python3.6/dist-packages/ipykernel_launcher.py:1: DeprecationWarning: Call to deprecated `most_similar` (Method will be removed in 4.0.0, use self.wv.most_similar() instead).\n",
            "  \"\"\"Entry point for launching an IPython kernel.\n",
            "/usr/local/lib/python3.6/dist-packages/gensim/matutils.py:737: FutureWarning: Conversion of the second argument of issubdtype from `int` to `np.signedinteger` is deprecated. In future, it will be treated as `np.int64 == np.dtype(int).type`.\n",
            "  if np.issubdtype(vec.dtype, np.int):\n"
          ],
          "name": "stderr"
        },
        {
          "output_type": "execute_result",
          "data": {
            "text/plain": [
              "[('new', 0.6496204733848572),\n",
              " ('last', 0.38098153471946716),\n",
              " ('packages', 0.24418778717517853),\n",
              " ('varieties', 0.24272023141384125),\n",
              " ('machine', 0.19528192281723022)]"
            ]
          },
          "metadata": {
            "tags": []
          },
          "execution_count": 6
        }
      ]
    },
    {
      "cell_type": "code",
      "metadata": {
        "id": "wpJT44X05kgs",
        "outputId": "a934ae4c-6662-449a-a832-cc8454d2f0e7",
        "colab": {
          "base_uri": "https://localhost:8080/",
          "height": 156
        }
      },
      "source": [
        "model['machine']\n",
        "#Out of vocabulary word: OOV"
      ],
      "execution_count": 7,
      "outputs": [
        {
          "output_type": "stream",
          "text": [
            "/usr/local/lib/python3.6/dist-packages/ipykernel_launcher.py:1: DeprecationWarning: Call to deprecated `__getitem__` (Method will be removed in 4.0.0, use self.wv.__getitem__() instead).\n",
            "  \"\"\"Entry point for launching an IPython kernel.\n"
          ],
          "name": "stderr"
        },
        {
          "output_type": "execute_result",
          "data": {
            "text/plain": [
              "array([ 0.01264168,  0.01202394, -0.00189259, -0.00776784, -0.00631003,\n",
              "       -0.01772993,  0.01228266,  0.0018453 ,  0.00991495, -0.00014828,\n",
              "       -0.02282144,  0.02171185, -0.00249518, -0.00225182, -0.00761795,\n",
              "       -0.00244339, -0.01499067,  0.02155475, -0.0167224 , -0.01058203],\n",
              "      dtype=float32)"
            ]
          },
          "metadata": {
            "tags": []
          },
          "execution_count": 7
        }
      ]
    },
    {
      "cell_type": "code",
      "metadata": {
        "id": "gOillgf45ks2",
        "outputId": "f59d7801-6e8e-47f6-9a15-18a46f87dc4f",
        "colab": {
          "base_uri": "https://localhost:8080/",
          "height": 275
        }
      },
      "source": [
        "close_words = model.similar_by_word('orange')\n",
        "close_words"
      ],
      "execution_count": 8,
      "outputs": [
        {
          "output_type": "stream",
          "text": [
            "/usr/local/lib/python3.6/dist-packages/ipykernel_launcher.py:1: DeprecationWarning: Call to deprecated `similar_by_word` (Method will be removed in 4.0.0, use self.wv.similar_by_word() instead).\n",
            "  \"\"\"Entry point for launching an IPython kernel.\n",
            "/usr/local/lib/python3.6/dist-packages/gensim/matutils.py:737: FutureWarning: Conversion of the second argument of issubdtype from `int` to `np.signedinteger` is deprecated. In future, it will be treated as `np.int64 == np.dtype(int).type`.\n",
            "  if np.issubdtype(vec.dtype, np.int):\n"
          ],
          "name": "stderr"
        },
        {
          "output_type": "execute_result",
          "data": {
            "text/plain": [
              "[('new', 0.6496204733848572),\n",
              " ('last', 0.38098153471946716),\n",
              " ('packages', 0.24418778717517853),\n",
              " ('varieties', 0.24272023141384125),\n",
              " ('machine', 0.19528192281723022),\n",
              " ('about', 0.1862090528011322),\n",
              " ('different', 0.17032912373542786),\n",
              " ('tree', 0.16500543057918549),\n",
              " ('fruit', 0.14930640161037445),\n",
              " ('learning', 0.13356956839561462)]"
            ]
          },
          "metadata": {
            "tags": []
          },
          "execution_count": 8
        }
      ]
    },
    {
      "cell_type": "code",
      "metadata": {
        "id": "SmUx1C3R5k4J"
      },
      "source": [
        "import numpy as np\n",
        "from sklearn.manifold import TSNE\n",
        "import matplotlib.pyplot as plt\n",
        "\n",
        "def display_closestwords_tsnescatterplot(model, word, size):\n",
        "    \n",
        "    arr = np.empty((0,size), dtype='f')\n",
        "    word_labels = [word]\n",
        "\n",
        "    close_words = model.similar_by_word(word)\n",
        "    arr = np.append(arr, np.array([model[word]]), axis=0)\n",
        "    for wrd_score in close_words:\n",
        "      wrd_vector = model[wrd_score[0]]\n",
        "      word_labels.append(wrd_score[0])\n",
        "      arr = np.append(arr, np.array([wrd_vector]), axis=0)\n",
        "      \n",
        "    tsne = TSNE(n_components=2, random_state=0)\n",
        "    np.set_printoptions(suppress=True)\n",
        "    Y = tsne.fit_transform(arr)\n",
        "    x_coords = Y[:, 0]\n",
        "    y_coords = Y[:, 1]\n",
        "    plt.scatter(x_coords, y_coords)\n",
        "    for label, x, y in zip(word_labels, x_coords, y_coords):\n",
        "        plt.annotate(label, xy=(x, y), xytext=(0, 0), textcoords='offset points')\n",
        "        plt.xlim(x_coords.min()+0.00005, x_coords.max()+0.00005)\n",
        "        plt.ylim(y_coords.min()+0.00005, y_coords.max()+0.00005)\n",
        "        plt.show()\n",
        "\n",
        "\n",
        "    "
      ],
      "execution_count": 9,
      "outputs": []
    },
    {
      "cell_type": "code",
      "metadata": {
        "id": "QELt1p4ePDo7",
        "outputId": "1b6dac24-c8f6-4631-9fef-a8b9588b5c96",
        "colab": {
          "base_uri": "https://localhost:8080/",
          "height": 1000
        }
      },
      "source": [
        "display_closestwords_tsnescatterplot(model, 'orange',20) "
      ],
      "execution_count": 10,
      "outputs": [
        {
          "output_type": "stream",
          "text": [
            "/usr/local/lib/python3.6/dist-packages/ipykernel_launcher.py:10: DeprecationWarning: Call to deprecated `similar_by_word` (Method will be removed in 4.0.0, use self.wv.similar_by_word() instead).\n",
            "  # Remove the CWD from sys.path while we load stuff.\n",
            "/usr/local/lib/python3.6/dist-packages/gensim/matutils.py:737: FutureWarning: Conversion of the second argument of issubdtype from `int` to `np.signedinteger` is deprecated. In future, it will be treated as `np.int64 == np.dtype(int).type`.\n",
            "  if np.issubdtype(vec.dtype, np.int):\n",
            "/usr/local/lib/python3.6/dist-packages/ipykernel_launcher.py:11: DeprecationWarning: Call to deprecated `__getitem__` (Method will be removed in 4.0.0, use self.wv.__getitem__() instead).\n",
            "  # This is added back by InteractiveShellApp.init_path()\n",
            "/usr/local/lib/python3.6/dist-packages/ipykernel_launcher.py:13: DeprecationWarning: Call to deprecated `__getitem__` (Method will be removed in 4.0.0, use self.wv.__getitem__() instead).\n",
            "  del sys.path[0]\n"
          ],
          "name": "stderr"
        },
        {
          "output_type": "display_data",
          "data": {
            "image/png": "[encoded data removed]",
            "text/plain": [
              "<Figure size 432x288 with 1 Axes>"
            ]
          },
          "metadata": {
            "tags": [],
            "needs_background": "light"
          }
        },
        {
          "output_type": "display_data",
          "data": {
            "image/png": "[encoded data removed]",
            "text/plain": [
              "<Figure size 432x288 with 1 Axes>"
            ]
          },
          "metadata": {
            "tags": [],
            "needs_background": "light"
          }
        },
        {
          "output_type": "display_data",
          "data": {
            "image/png": "[encoded data removed]",
            "text/plain": [
              "<Figure size 432x288 with 1 Axes>"
            ]
          },
          "metadata": {
            "tags": [],
            "needs_background": "light"
          }
        },
        {
          "output_type": "display_data",
          "data": {
            "image/png": "[encoded data removed]",
            "text/plain": [
              "<Figure size 432x288 with 1 Axes>"
            ]
          },
          "metadata": {
            "tags": [],
            "needs_background": "light"
          }
        },
        {
          "output_type": "display_data",
          "data": {
            "image/png": "[encoded data removed]",
            "text/plain": [
              "<Figure size 432x288 with 1 Axes>"
            ]
          },
          "metadata": {
            "tags": [],
            "needs_background": "light"
          }
        },
        {
          "output_type": "display_data",
          "data": {
            "image/png": "[encoded data removed]",
            "text/plain": [
              "<Figure size 432x288 with 1 Axes>"
            ]
          },
          "metadata": {
            "tags": [],
            "needs_background": "light"
          }
        },
        {
          "output_type": "display_data",
          "data": {
            "image/png": "[encoded data removed]",
            "text/plain": [
              "<Figure size 432x288 with 1 Axes>"
            ]
          },
          "metadata": {
            "tags": [],
            "needs_background": "light"
          }
        },
        {
          "output_type": "display_data",
          "data": {
            "image/png": "[encoded data removed]",
            "text/plain": [
              "<Figure size 432x288 with 1 Axes>"
            ]
          },
          "metadata": {
            "tags": [],
            "needs_background": "light"
          }
        },
        {
          "output_type": "display_data",
          "data": {
            "image/png": "[encoded data removed]",
            "text/plain": [
              "<Figure size 432x288 with 1 Axes>"
            ]
          },
          "metadata": {
            "tags": [],
            "needs_background": "light"
          }
        },
        {
          "output_type": "display_data",
          "data": {
            "image/png": "[encoded data removed]",
            "text/plain": [
              "<Figure size 432x288 with 1 Axes>"
            ]
          },
          "metadata": {
            "tags": [],
            "needs_background": "light"
          }
        },
        {
          "output_type": "display_data",
          "data": {
            "image/png": "[encoded data removed]",
            "text/plain": [
              "<Figure size 432x288 with 1 Axes>"
            ]
          },
          "metadata": {
            "tags": [],
            "needs_background": "light"
          }
        }
      ]
    },
    {
      "cell_type": "code",
      "metadata": {
        "id": "ess6_541upPl",
        "outputId": "2cda7da9-e1a2-4aca-bf74-02b6987fd634",
        "colab": {
          "base_uri": "https://localhost:8080/",
          "height": 71
        }
      },
      "source": [
        "import numpy as np\n",
        " \n",
        "def sent_vectorizer(sent, model):\n",
        "    sent_vec = np.zeros(20)\n",
        "    numw = 0\n",
        "    for w in sent:\n",
        "        try:\n",
        "            sent_vec = np.add(sent_vec, model[w])\n",
        "            numw+=1\n",
        "        except:\n",
        "            pass\n",
        "    return sent_vec / np.sqrt(sent_vec.dot(sent_vec))\n",
        " \n",
        "V=[]\n",
        "for sentence in sentences:\n",
        "    V.append(sent_vectorizer(sentence, model))\n",
        " "
      ],
      "execution_count": 11,
      "outputs": [
        {
          "output_type": "stream",
          "text": [
            "/usr/local/lib/python3.6/dist-packages/ipykernel_launcher.py:8: DeprecationWarning: Call to deprecated `__getitem__` (Method will be removed in 4.0.0, use self.wv.__getitem__() instead).\n",
            "  \n"
          ],
          "name": "stderr"
        }
      ]
    },
    {
      "cell_type": "code",
      "metadata": {
        "id": "XNd0oygku_oh",
        "outputId": "13728ab1-bb7a-4ab0-cd41-97711ac35aba",
        "colab": {
          "base_uri": "https://localhost:8080/",
          "height": 85
        }
      },
      "source": [
        "V[0]"
      ],
      "execution_count": 12,
      "outputs": [
        {
          "output_type": "execute_result",
          "data": {
            "text/plain": [
              "array([ 0.21043966,  0.13089872, -0.24404141, -0.29148068,  0.10462396,\n",
              "       -0.11194665, -0.06609174, -0.3075311 ,  0.14784601,  0.3246151 ,\n",
              "       -0.37288162, -0.09830584,  0.23551459,  0.18071724,  0.21297844,\n",
              "        0.06598466, -0.3393531 ,  0.25442752,  0.24498114, -0.13399375])"
            ]
          },
          "metadata": {
            "tags": []
          },
          "execution_count": 12
        }
      ]
    },
    {
      "cell_type": "code",
      "metadata": {
        "id": "0SMulXYcvICf",
        "outputId": "48bf04fd-de71-4ca0-f664-fe618743a8e9",
        "colab": {
          "base_uri": "https://localhost:8080/",
          "height": 629
        }
      },
      "source": [
        "V"
      ],
      "execution_count": 13,
      "outputs": [
        {
          "output_type": "execute_result",
          "data": {
            "text/plain": [
              "[array([ 0.21043966,  0.13089872, -0.24404141, -0.29148068,  0.10462396,\n",
              "        -0.11194665, -0.06609174, -0.3075311 ,  0.14784601,  0.3246151 ,\n",
              "        -0.37288162, -0.09830584,  0.23551459,  0.18071724,  0.21297844,\n",
              "         0.06598466, -0.3393531 ,  0.25442752,  0.24498114, -0.13399375]),\n",
              " array([-0.01293359,  0.3117044 , -0.06622822, -0.31670307,  0.06600229,\n",
              "        -0.36204373,  0.06723398, -0.31491292,  0.15158175,  0.28489825,\n",
              "        -0.15677202,  0.07822803,  0.02325239,  0.101218  ,  0.4591575 ,\n",
              "         0.21021025, -0.2474835 ,  0.01633572,  0.13560522, -0.27985532]),\n",
              " array([ 0.12580881, -0.21392188,  0.10828961, -0.2393381 , -0.02247976,\n",
              "        -0.09854798,  0.00811149,  0.11350138, -0.13085614,  0.38749149,\n",
              "        -0.3601779 ,  0.26069669,  0.12533095,  0.30917463,  0.28493171,\n",
              "        -0.11654361, -0.27332979, -0.01744954,  0.27933714,  0.34951787]),\n",
              " array([ 0.08048764,  0.31436387, -0.03628356, -0.04014116,  0.28719588,\n",
              "        -0.46071611,  0.06984063, -0.28926569,  0.11118806,  0.24779784,\n",
              "        -0.28954864, -0.03559448,  0.06849239, -0.02271423,  0.37436943,\n",
              "         0.18886687, -0.04797168, -0.08476399,  0.25078455, -0.31015282]),\n",
              " array([-0.06186822, -0.03827641,  0.26145295,  0.00490053,  0.06839112,\n",
              "         0.16979084,  0.16901555, -0.52476413,  0.154422  ,  0.45215289,\n",
              "        -0.10554485,  0.31749633,  0.1542464 ,  0.23400218, -0.17554771,\n",
              "         0.04239301, -0.24287183, -0.27053904,  0.07215909,  0.00977085]),\n",
              " array([-0.1089399 , -0.00762304,  0.1958603 , -0.05670757, -0.03622996,\n",
              "         0.12510607, -0.0617524 ,  0.01329671,  0.09681237,  0.16523109,\n",
              "        -0.63786357,  0.28145882,  0.2717456 , -0.13948627, -0.24069472,\n",
              "        -0.13760216,  0.1768842 , -0.44374068,  0.06487442, -0.01438158]),\n",
              " array([ 0.17905037,  0.30350457, -0.27844523, -0.1834668 , -0.07842246,\n",
              "        -0.13047859, -0.05039197, -0.26755953,  0.10209375,  0.32924501,\n",
              "        -0.35290365, -0.09987134,  0.16868948,  0.00054473,  0.2193688 ,\n",
              "        -0.10748818, -0.46229482,  0.1714232 ,  0.27408335, -0.08737465]),\n",
              " array([-0.11805307, -0.18126827,  0.24865705, -0.03586026,  0.03741353,\n",
              "         0.15162664, -0.19846669, -0.15017155,  0.15056014,  0.09181756,\n",
              "        -0.58214921,  0.30633403,  0.28799342, -0.19498497, -0.22397841,\n",
              "        -0.09424451,  0.09581648, -0.27138283, -0.20047444, -0.19207777]),\n",
              " array([ 0.00569516,  0.01697817,  0.20420267,  0.22693231,  0.19714333,\n",
              "        -0.04296879,  0.14273622, -0.01184165,  0.03412247,  0.28688363,\n",
              "        -0.20258338,  0.35136247,  0.0898874 , -0.00293746,  0.0785283 ,\n",
              "         0.30879945,  0.1299768 , -0.63052202, -0.26377277, -0.06045032])]"
            ]
          },
          "metadata": {
            "tags": []
          },
          "execution_count": 13
        }
      ]
    },
    {
      "cell_type": "code",
      "metadata": {
        "id": "L5VXmYOJvD_J"
      },
      "source": [
        ""
      ],
      "execution_count": null,
      "outputs": []
    }
  ]
}