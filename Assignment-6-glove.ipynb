{
  "nbformat": 4,
  "nbformat_minor": 0,
  "metadata": {
    "colab": {
      "name": "Copy of glove (2).ipynb",
      "provenance": [],
      "collapsed_sections": []
    },
    "kernelspec": {
      "display_name": "Python 3",
      "language": "python",
      "name": "python3"
    },
    "language_info": {
      "codemirror_mode": {
        "name": "ipython",
        "version": 3
      },
      "file_extension": ".py",
      "mimetype": "text/x-python",
      "name": "python",
      "nbconvert_exporter": "python",
      "pygments_lexer": "ipython3",
      "version": "3.6.10"
    }
  },
  "cells": [
    {
      "cell_type": "code",
      "metadata": {
        "id": "MF55ik7_vj57"
      },
      "source": [
        "import glove\n",
        "#!pip install glove-python"
      ],
      "execution_count": null,
      "outputs": []
    },
    {
      "cell_type": "code",
      "metadata": {
        "id": "G6tT_Y0AvxYB"
      },
      "source": [
        "corpus = [\n",
        "          'Text of the first document.',\n",
        "          'Text of the second document made longer.',\n",
        "          'Number three.',\n",
        "          'This is number four.',\n",
        "]\n",
        "# we need to pass splitted sentences to the model\n",
        "tokenized_sentences = [sentence.split() for sentence in corpus]\n",
        "lines=tokenized_sentences\n"
      ],
      "execution_count": null,
      "outputs": []
    },
    {
      "cell_type": "code",
      "metadata": {
        "id": "CuqecWFs0-sJ"
      },
      "source": [
        "sentences = [['this', 'is', 'the', 'good', 'machine', 'learning', 'book'],\n",
        "            ['this', 'is',  'another', 'machine', 'learning', 'book'],\n",
        "            ['one', 'more', 'new', 'book'],\n",
        "         \n",
        "          ['this', 'is', 'about', 'machine', 'learning', 'post'],\n",
        "          ['orange', 'juice', 'is', 'the', 'liquid', 'extract', 'of', 'fruit'],\n",
        "          ['orange', 'juice', 'comes', 'in', 'several', 'different', 'varieties'],\n",
        "          ['this', 'is', 'the', 'last', 'machine', 'learning', 'book'],\n",
        "          ['orange', 'juice', 'comes', 'in', 'several', 'different', 'packages'],\n",
        "          ['orange', 'juice', 'is', 'liquid', 'extract', 'from', 'fruit', 'on', 'orange', 'tree']]\n",
        "lines=sentences"
      ],
      "execution_count": null,
      "outputs": []
    },
    {
      "cell_type": "code",
      "metadata": {
        "id": "bWZM4v-rxab5"
      },
      "source": [
        "#importing the glove library\n",
        "from glove import Corpus, Glove\n",
        "\n",
        "# creating a corpus object\n",
        "corpus = Corpus() \n",
        "\n",
        "#training the corpus to generate the co occurence matrix which is used in GloVe\n",
        "corpus.fit(lines, window=10)"
      ],
      "execution_count": null,
      "outputs": []
    },
    {
      "cell_type": "code",
      "metadata": {
        "id": "I59Cq3DPxqn0",
        "outputId": "0811d159-d642-4378-a6bd-9064e4cdb36a",
        "colab": {
          "base_uri": "https://localhost:8080/",
          "height": 544
        }
      },
      "source": [
        "glove = Glove(no_components=30, learning_rate=0.05)\n",
        " \n",
        "glove.fit(corpus.matrix, epochs=30, no_threads=4, verbose=True)\n",
        "glove.add_dictionary(corpus.dictionary)\n",
        "glove.save('glove2582020.model')"
      ],
      "execution_count": null,
      "outputs": [
        {
          "output_type": "stream",
          "text": [
            "Performing 30 training epochs with 4 threads\n",
            "Epoch 0\n",
            "Epoch 1\n",
            "Epoch 2\n",
            "Epoch 3\n",
            "Epoch 4\n",
            "Epoch 5\n",
            "Epoch 6\n",
            "Epoch 7\n",
            "Epoch 8\n",
            "Epoch 9\n",
            "Epoch 10\n",
            "Epoch 11\n",
            "Epoch 12\n",
            "Epoch 13\n",
            "Epoch 14\n",
            "Epoch 15\n",
            "Epoch 16\n",
            "Epoch 17\n",
            "Epoch 18\n",
            "Epoch 19\n",
            "Epoch 20\n",
            "Epoch 21\n",
            "Epoch 22\n",
            "Epoch 23\n",
            "Epoch 24\n",
            "Epoch 25\n",
            "Epoch 26\n",
            "Epoch 27\n",
            "Epoch 28\n",
            "Epoch 29\n"
          ],
          "name": "stdout"
        }
      ]
    },
    {
      "cell_type": "code",
      "metadata": {
        "id": "IxfXtYyYxtF2",
        "outputId": "ce69d259-1143-4387-db84-8af7799b207e",
        "colab": {
          "base_uri": "https://localhost:8080/",
          "height": 102
        }
      },
      "source": [
        "print(glove.word_vectors[glove.dictionary['book']])"
      ],
      "execution_count": null,
      "outputs": [
        {
          "output_type": "stream",
          "text": [
            "[ 0.01419805  0.0040605   0.00546009 -0.01261195  0.01305453 -0.00728994\n",
            " -0.00953699  0.01434406  0.00055503  0.00864119 -0.00195902 -0.00908965\n",
            " -0.01231663  0.00489785  0.00789135  0.00481659  0.00769683 -0.00429495\n",
            " -0.00057861  0.01368898 -0.01363341  0.00710815 -0.00180702 -0.01197337\n",
            " -0.01147267 -0.00209059 -0.01462345  0.0152      0.01262917  0.01483069]\n"
          ],
          "name": "stdout"
        }
      ]
    },
    {
      "cell_type": "code",
      "metadata": {
        "id": "aCg8LRCV0dJp"
      },
      "source": [
        "import warnings\n",
        "warnings.filterwarnings('ignore')"
      ],
      "execution_count": null,
      "outputs": []
    },
    {
      "cell_type": "code",
      "metadata": {
        "id": "Tq6zezbW0djf"
      },
      "source": [
        "from gensim.models.word2vec import Word2Vec\n",
        "import gensim.downloader as api"
      ],
      "execution_count": null,
      "outputs": []
    },
    {
      "cell_type": "code",
      "metadata": {
        "id": "n2aNojKX0kib",
        "outputId": "5547b9ce-5282-407f-8529-fb3aced5f147",
        "colab": {
          "base_uri": "https://localhost:8080/",
          "height": 357
        }
      },
      "source": [
        "!wget http://nlp.stanford.edu/data/glove.6B.zip\n"
      ],
      "execution_count": null,
      "outputs": [
        {
          "output_type": "stream",
          "text": [
            "--2020-10-04 11:56:31--  http://nlp.stanford.edu/data/glove.6B.zip\n",
            "Resolving nlp.stanford.edu (nlp.stanford.edu)... 171.64.67.140\n",
            "Connecting to nlp.stanford.edu (nlp.stanford.edu)|171.64.67.140|:80... connected.\n",
            "HTTP request sent, awaiting response... 302 Found\n",
            "Location: https://nlp.stanford.edu/data/glove.6B.zip [following]\n",
            "--2020-10-04 11:56:31--  https://nlp.stanford.edu/data/glove.6B.zip\n",
            "Connecting to nlp.stanford.edu (nlp.stanford.edu)|171.64.67.140|:443... connected.\n",
            "HTTP request sent, awaiting response... 301 Moved Permanently\n",
            "Location: http://downloads.cs.stanford.edu/nlp/data/glove.6B.zip [following]\n",
            "--2020-10-04 11:56:32--  http://downloads.cs.stanford.edu/nlp/data/glove.6B.zip\n",
            "Resolving downloads.cs.stanford.edu (downloads.cs.stanford.edu)... 171.64.64.22\n",
            "Connecting to downloads.cs.stanford.edu (downloads.cs.stanford.edu)|171.64.64.22|:80... connected.\n",
            "HTTP request sent, awaiting response... 200 OK\n",
            "Length: 862182613 (822M) [application/zip]\n",
            "Saving to: ‘glove.6B.zip’\n",
            "\n",
            "glove.6B.zip        100%[===================>] 822.24M  1.90MB/s    in 6m 30s  \n",
            "\n",
            "2020-10-04 12:03:02 (2.11 MB/s) - ‘glove.6B.zip’ saved [862182613/862182613]\n",
            "\n"
          ],
          "name": "stdout"
        }
      ]
    },
    {
      "cell_type": "code",
      "metadata": {
        "id": "P6bGjU1Y1La_",
        "outputId": "24c4aad7-ff48-4529-b173-484d430c768e",
        "colab": {
          "base_uri": "https://localhost:8080/",
          "height": 102
        }
      },
      "source": [
        "!unzip glove*.zip\n"
      ],
      "execution_count": null,
      "outputs": [
        {
          "output_type": "stream",
          "text": [
            "Archive:  glove.6B.zip\n",
            "  inflating: glove.6B.50d.txt        \n",
            "  inflating: glove.6B.100d.txt       \n",
            "  inflating: glove.6B.200d.txt       \n",
            "  inflating: glove.6B.300d.txt       \n"
          ],
          "name": "stdout"
        }
      ]
    },
    {
      "cell_type": "code",
      "metadata": {
        "id": "ExJi2lmf5dzd",
        "outputId": "02d8c0f4-aed5-4ec2-e833-b93ed7419571",
        "colab": {
          "base_uri": "https://localhost:8080/",
          "height": 51
        }
      },
      "source": [
        "!ls\n",
        "#!pwd"
      ],
      "execution_count": null,
      "outputs": [
        {
          "output_type": "stream",
          "text": [
            "glove2582020.model  glove.6B.200d.txt  glove.6B.50d.txt  sample_data\n",
            "glove.6B.100d.txt   glove.6B.300d.txt  glove.6B.zip\n"
          ],
          "name": "stdout"
        }
      ]
    },
    {
      "cell_type": "code",
      "metadata": {
        "id": "Ln6W0apG5pO7",
        "outputId": "5210087e-ea03-4995-f8bf-bffae83e5a52",
        "colab": {
          "base_uri": "https://localhost:8080/",
          "height": 51
        }
      },
      "source": [
        "import numpy as np\n",
        "\n",
        "print('Indexing word vectors.')\n",
        "\n",
        "embeddings_index = {}\n",
        "f = open('glove.6B.100d.txt', encoding='utf-8')\n",
        "for line in f:\n",
        "    values = line.split()\n",
        "    word = values[0]\n",
        "    coefs = np.asarray(values[1:], dtype='float32')\n",
        "    embeddings_index[word] = coefs\n",
        "f.close()\n",
        "\n",
        "print('Found %s word vectors.' % len(embeddings_index))"
      ],
      "execution_count": null,
      "outputs": [
        {
          "output_type": "stream",
          "text": [
            "Indexing word vectors.\n",
            "Found 400000 word vectors.\n"
          ],
          "name": "stdout"
        }
      ]
    },
    {
      "cell_type": "code",
      "metadata": {
        "id": "EKHsnOGc6BBn",
        "outputId": "73549763-48dd-4b70-b0dd-661b6f1ba737",
        "colab": {
          "base_uri": "https://localhost:8080/",
          "height": 374
        }
      },
      "source": [
        " embeddings_index['bansi'] "
      ],
      "execution_count": null,
      "outputs": [
        {
          "output_type": "execute_result",
          "data": {
            "text/plain": [
              "array([-0.45689  , -0.48368  , -0.10719  ,  0.30094  , -0.711    ,\n",
              "       -0.37887  , -0.48129  , -0.10111  ,  1.0719   ,  0.13421  ,\n",
              "       -0.072387 ,  0.025167 , -0.22363  ,  0.41114  , -0.31581  ,\n",
              "       -0.22839  ,  0.18468  ,  0.30291  , -0.065741 , -0.054401 ,\n",
              "       -0.026783 , -0.16614  , -0.23002  , -0.11753  ,  0.13102  ,\n",
              "       -0.0082967,  0.4713   ,  0.41072  ,  0.32504  ,  0.014223 ,\n",
              "        0.012089 ,  0.44154  , -0.11824  , -0.09861  , -0.48382  ,\n",
              "       -0.10871  , -0.16252  ,  0.056696 , -0.10262  , -0.14537  ,\n",
              "        0.42622  ,  0.50266  ,  0.4506   ,  0.009515 , -0.12678  ,\n",
              "        0.036441 ,  0.23346  , -0.05593  , -0.0077527,  0.50912  ,\n",
              "       -0.065032 , -0.37864  ,  0.035133 , -0.56181  , -0.018482 ,\n",
              "        0.62292  ,  0.13074  ,  0.14348  , -0.59796  , -0.48643  ,\n",
              "        0.5836   , -0.12247  ,  0.49511  ,  0.2843   , -0.71633  ,\n",
              "        0.40109  ,  0.40256  , -0.51749  , -0.22747  , -0.24636  ,\n",
              "        0.14641  , -0.42453  , -0.43786  ,  0.50413  , -0.25859  ,\n",
              "        0.30767  , -0.075047 ,  0.66272  ,  0.20209  ,  0.16109  ,\n",
              "        0.12951  ,  0.17517  , -0.60484  , -0.40361  ,  0.78026  ,\n",
              "        0.088862 , -0.65345  ,  0.33704  ,  0.29986  ,  0.040733 ,\n",
              "        0.36784  , -0.15193  ,  0.62986  ,  0.26501  ,  0.43965  ,\n",
              "       -0.5861   ,  0.38417  ,  0.14246  , -0.30556  , -0.33502  ],\n",
              "      dtype=float32)"
            ]
          },
          "metadata": {
            "tags": []
          },
          "execution_count": 17
        }
      ]
    },
    {
      "cell_type": "code",
      "metadata": {
        "id": "Ca4_VU1b8PX6",
        "outputId": "4ded06b1-8fea-432c-dbb3-afc2f2079439",
        "colab": {
          "base_uri": "https://localhost:8080/",
          "height": 51
        }
      },
      "source": [
        "ls"
      ],
      "execution_count": null,
      "outputs": [
        {
          "output_type": "stream",
          "text": [
            "glove2582020.model  glove.6B.200d.txt  glove.6B.50d.txt  \u001b[0m\u001b[01;34msample_data\u001b[0m/\n",
            "glove.6B.100d.txt   glove.6B.300d.txt  glove.6B.zip\n"
          ],
          "name": "stdout"
        }
      ]
    },
    {
      "cell_type": "code",
      "metadata": {
        "id": "KA9z-09k99Kg"
      },
      "source": [
        "from gensim.test.utils import datapath, get_tmpfile\n",
        "from gensim.models import KeyedVectors\n",
        "from gensim.scripts.glove2word2vec import glove2word2vec"
      ],
      "execution_count": null,
      "outputs": []
    },
    {
      "cell_type": "code",
      "metadata": {
        "id": "3NwankTo_Kne",
        "outputId": "ea3029a8-04c6-47c0-9b47-da6421793b35",
        "colab": {
          "base_uri": "https://localhost:8080/",
          "height": 34
        }
      },
      "source": [
        "glove_file = datapath('/content/glove.6B.100d.txt')\n",
        "word2vec_glove_file = get_tmpfile(\"glove.6B.100d.word2vec.txt\")\n",
        "glove2word2vec(glove_file, word2vec_glove_file)\n"
      ],
      "execution_count": null,
      "outputs": [
        {
          "output_type": "execute_result",
          "data": {
            "text/plain": [
              "(400000, 100)"
            ]
          },
          "metadata": {
            "tags": []
          },
          "execution_count": 21
        }
      ]
    },
    {
      "cell_type": "code",
      "metadata": {
        "id": "aGdRiDJA_hkT"
      },
      "source": [
        "model = KeyedVectors.load_word2vec_format(word2vec_glove_file)\n"
      ],
      "execution_count": null,
      "outputs": []
    },
    {
      "cell_type": "code",
      "metadata": {
        "id": "8aPTvYFL_zwV",
        "outputId": "329ec4e5-3ae6-46ae-d84d-de6dca9a1dcc",
        "colab": {
          "base_uri": "https://localhost:8080/",
          "height": 187
        }
      },
      "source": [
        "model.most_similar('bansi')\n",
        "\n"
      ],
      "execution_count": null,
      "outputs": [
        {
          "output_type": "execute_result",
          "data": {
            "text/plain": [
              "[('oblinger', 0.5727754235267639),\n",
              " ('kishori', 0.5726071000099182),\n",
              " ('chuni', 0.5705272555351257),\n",
              " ('balasaheb', 0.5698341727256775),\n",
              " ('borys', 0.5645712018013),\n",
              " ('tarasiuk', 0.5602415800094604),\n",
              " ('bakiev', 0.5574126243591309),\n",
              " ('chandy', 0.5566245317459106),\n",
              " ('gosain', 0.5532156229019165),\n",
              " ('murari', 0.5516690015792847)]"
            ]
          },
          "metadata": {
            "tags": []
          },
          "execution_count": 25
        }
      ]
    },
    {
      "cell_type": "code",
      "metadata": {
        "id": "GK_4KQOjDUJf",
        "outputId": "d10cc692-d063-4da0-9e03-4ea6f36580f9",
        "colab": {
          "base_uri": "https://localhost:8080/",
          "height": 187
        }
      },
      "source": [
        "model.most_similar('banana')"
      ],
      "execution_count": null,
      "outputs": [
        {
          "output_type": "execute_result",
          "data": {
            "text/plain": [
              "[('coconut', 0.7097253799438477),\n",
              " ('mango', 0.7054824233055115),\n",
              " ('bananas', 0.6887733936309814),\n",
              " ('potato', 0.6629636287689209),\n",
              " ('pineapple', 0.6534532904624939),\n",
              " ('fruit', 0.6519855260848999),\n",
              " ('peanut', 0.6420576572418213),\n",
              " ('pecan', 0.6349173188209534),\n",
              " ('cashew', 0.6294420957565308),\n",
              " ('papaya', 0.6246591210365295)]"
            ]
          },
          "metadata": {
            "tags": []
          },
          "execution_count": 26
        }
      ]
    },
    {
      "cell_type": "code",
      "metadata": {
        "id": "5YZQ4e3uDXBg",
        "outputId": "bd3b7438-7470-4988-a047-b8b6c4c3be65",
        "colab": {
          "base_uri": "https://localhost:8080/",
          "height": 204
        }
      },
      "source": [
        "model.most_similar(negative='banana')\n"
      ],
      "execution_count": null,
      "outputs": [
        {
          "output_type": "execute_result",
          "data": {
            "text/plain": [
              "[('keyrates', 0.7173938751220703),\n",
              " ('sungrebe', 0.7119239568710327),\n",
              " ('þórður', 0.7067720890045166),\n",
              " ('zety', 0.7056615352630615),\n",
              " ('23aou94', 0.6959497928619385),\n",
              " ('___________________________________________________________',\n",
              "  0.694915235042572),\n",
              " ('elymians', 0.6945434212684631),\n",
              " ('camarina', 0.6927202939987183),\n",
              " ('ryryryryryry', 0.6905653476715088),\n",
              " ('maurilio', 0.6865653395652771)]"
            ]
          },
          "metadata": {
            "tags": []
          },
          "execution_count": 27
        }
      ]
    },
    {
      "cell_type": "code",
      "metadata": {
        "id": "reSpbkDiDbQ7",
        "outputId": "5add8864-cffb-4e3f-b13b-7d9bd5c88596",
        "colab": {
          "base_uri": "https://localhost:8080/",
          "height": 34
        }
      },
      "source": [
        "result = model.most_similar(positive=['woman', 'king'], negative=['man'])\n",
        "print(\"{}: {:.4f}\".format(*result[0]))\n"
      ],
      "execution_count": null,
      "outputs": [
        {
          "output_type": "stream",
          "text": [
            "queen: 0.7699\n"
          ],
          "name": "stdout"
        }
      ]
    },
    {
      "cell_type": "code",
      "metadata": {
        "id": "e2IMwO81gUmq"
      },
      "source": [
        ""
      ],
      "execution_count": null,
      "outputs": []
    }
  ]
}
